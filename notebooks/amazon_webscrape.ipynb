{
 "cells": [
  {
   "cell_type": "code",
   "execution_count": null,
   "id": "c4c11ccd",
   "metadata": {},
   "outputs": [],
   "source": [
    "import requests\n",
    "import time\n",
    "import datetime\n",
    "from bs4 import BeautifulSoup\n",
    "\n",
    "import smtplib"
   ]
  },
  {
   "cell_type": "code",
   "execution_count": null,
   "id": "dd589319",
   "metadata": {},
   "outputs": [],
   "source": [
    "url = 'https://www.amazon.com/Beginners-Step-Step-Coding-Course/dp/1465482210/ref=sr_1_28?crid=2QUWLPGAL0WJB&keywords=programming+books&qid=1666363215&qu=eyJxc2MiOiI1LjgzIiwicXNhIjoiNS41MSIsInFzcCI6IjUuMzcifQ%3D%3D&sprefix=programming+books%2Caps%2C104&sr=8-28'\n",
    "\n",
    "headers = {\"User-Agent\": \"Mozilla/5.0 (Windows NT 10.0; Win64; x64) AppleWebKit/537.36 (KHTML, like Gecko) Chrome/106.0.0.0 Safari/537.36\"}\n",
    "\n",
    "page = requests.get(url, headers = headers)\n",
    "\n",
    "soup1 = BeautifulSoup(page.content, \"html.parser\") #Pulls in entire DOCTYPE html\n",
    "\n",
    "soup2 =  BeautifulSoup(soup1.prettify(), \"html.parser\")\n",
    "\n",
    "primary_title = soup2.find(id='productTitle').get_text()\n",
    "\n",
    "subtitle = soup2.find(id='productSubtitle').get_text()\n",
    "\n",
    "title = primary_title + \" \" + subtitle\n",
    "\n",
    "price = soup2.find( ='').get_text()\n",
    "\n",
    "#print(title)\n",
    "#print(price)\n"
   ]
  },
  {
   "cell_type": "code",
   "execution_count": null,
   "id": "a4afbfb2",
   "metadata": {},
   "outputs": [],
   "source": []
  }
 ],
 "metadata": {
  "kernelspec": {
   "display_name": "Python 3 (ipykernel)",
   "language": "python",
   "name": "python3"
  },
  "language_info": {
   "codemirror_mode": {
    "name": "ipython",
    "version": 3
   },
   "file_extension": ".py",
   "mimetype": "text/x-python",
   "name": "python",
   "nbconvert_exporter": "python",
   "pygments_lexer": "ipython3",
   "version": "3.9.7"
  }
 },
 "nbformat": 4,
 "nbformat_minor": 5
}
