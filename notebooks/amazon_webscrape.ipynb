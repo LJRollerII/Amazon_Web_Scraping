{
 "cells": [
  {
   "cell_type": "code",
   "execution_count": 1,
   "id": "c4c11ccd",
   "metadata": {},
   "outputs": [],
   "source": [
    "import requests\n",
    "import time\n",
    "import datetime\n",
    "from bs4 import BeautifulSoup\n",
    "\n",
    "import smtplib\n",
    "import csv"
   ]
  },
  {
   "cell_type": "code",
   "execution_count": 2,
   "id": "dd589319",
   "metadata": {},
   "outputs": [
    {
     "name": "stdout",
     "output_type": "stream",
     "text": [
      "\n",
      "            Beginner's Step-by-Step Coding Course: Learn Computer Programming the Easy Way\n",
      "            \n",
      "            Hardcover – January 7, 2020\n",
      "           \n",
      "\n",
      "                        $20.99\n",
      "                       \n"
     ]
    }
   ],
   "source": [
    "url = 'https://www.amazon.com/Beginners-Step-Step-Coding-Course/dp/1465482210/ref=sr_1_28?crid=2QUWLPGAL0WJB&keywords=programming+books&qid=1666363215&qu=eyJxc2MiOiI1LjgzIiwicXNhIjoiNS41MSIsInFzcCI6IjUuMzcifQ%3D%3D&sprefix=programming+books%2Caps%2C104&sr=8-28'\n",
    "\n",
    "headers = {\n",
    "    'User-Agent': 'Mozilla/5.0 (X11; Ubuntu; Linux x86_64; rv:107.0) Gecko/20100101 Firefox/107.0',\n",
    "    'Cookie': 'session-id=133-7956488-4167933; session-id-time=2082787201l; i18n-prefs=USD; csm-hit=tb:4CAWT9QXV8XXEFB18N5G+s-4CAWT9QXV8XXEFB18N5G|1668993928773&t:1668993928773&adb:adblk_no; ubid-main=133-7872679-9111350; session-token=\"xJd37AFEHf7MdRpVognN01bCWZUaLhZp2kKp3TADqikpYNqX8vp0xYt5QcNVZIRizfclP3uxnHqjUNpHZ5AcXYrdB/pyri8CK0PpfZnTvxu+jIx2yF693JfVrcM3HrMtiUByNDvcvPLtm39AmQ8UQTR0iF2xMHfOGjIgg6PiSLLwDLqCchATzPb6maWtZUS/IxVasNKMERTHrr9Jm7rnuZZ/rO1rvPPPOyXiCgm7RtI=\"'\n",
    "}\n",
    "\n",
    "page = requests.get(url, headers = headers)\n",
    "\n",
    "soup1 = BeautifulSoup(page.content, \"html.parser\") #Pulls in entire DOCTYPE html\n",
    "\n",
    "soup2 =  BeautifulSoup(soup1.prettify(), \"html.parser\")\n",
    "\n",
    "primary_title = soup2.find(id='productTitle').get_text()\n",
    "\n",
    "subtitle = soup2.find(id='productSubtitle').get_text()\n",
    "\n",
    "title = primary_title + \" \" + subtitle\n",
    "\n",
    "price = (\n",
    "    soup2\n",
    "    .find('span', {'class': 'a-price a-text-price header-price a-size-base a-text-normal'})\n",
    "    .find('span', {'class': 'a-offscreen'})\n",
    "    .text\n",
    ")\n",
    "\n",
    "\n",
    "print(title)\n",
    "print(price)\n"
   ]
  },
  {
   "cell_type": "code",
   "execution_count": 3,
   "id": "a4afbfb2",
   "metadata": {
    "scrolled": false
   },
   "outputs": [
    {
     "name": "stdout",
     "output_type": "stream",
     "text": [
      "Beginner's Step-by-Step Coding Course: Learn Computer Programming the Easy Way\n",
      "$20.99\n"
     ]
    }
   ],
   "source": [
    "primary_title = primary_title.strip()\n",
    "price = price.strip()\n",
    "\n",
    "print(primary_title)\n",
    "print(price)"
   ]
  },
  {
   "cell_type": "markdown",
   "id": "c971c565",
   "metadata": {},
   "source": [
    "# Create a timestamp for the output to track when data was collected"
   ]
  },
  {
   "cell_type": "code",
   "execution_count": 4,
   "id": "2b3c6b25",
   "metadata": {},
   "outputs": [
    {
     "name": "stdout",
     "output_type": "stream",
     "text": [
      "2022-11-21\n"
     ]
    }
   ],
   "source": [
    "today = datetime.date.today()\n",
    "\n",
    "print(today)"
   ]
  },
  {
   "cell_type": "markdown",
   "id": "c6a2048b",
   "metadata": {},
   "source": [
    "# Putting the data into a csv"
   ]
  },
  {
   "cell_type": "code",
   "execution_count": 5,
   "id": "0e87723c",
   "metadata": {},
   "outputs": [],
   "source": [
    "header = ['Title', 'Price', 'Date']\n",
    "data = [primary_title, price, today]\n",
    "\n",
    "with open('AmazonWebScrapeData.csv', 'w', newline='', encoding='UTF8') as f:\n",
    "    writer = csv.writer(f)\n",
    "    writer.writerow(header)\n",
    "    writer.writerow(data)"
   ]
  },
  {
   "cell_type": "markdown",
   "id": "209cfa7b",
   "metadata": {},
   "source": [
    "# Check the csv file without opening Excel"
   ]
  },
  {
   "cell_type": "code",
   "execution_count": 7,
   "id": "ed978e0a",
   "metadata": {},
   "outputs": [
    {
     "name": "stdout",
     "output_type": "stream",
     "text": [
      "                                               Title   Price        Date\n",
      "0  Beginner's Step-by-Step Coding Course: Learn C...  $20.99  2022-11-21\n"
     ]
    }
   ],
   "source": [
    "import pandas as pd\n",
    "\n",
    "df = pd.read_csv(\"../notebooks/AmazonWebScrapeData.csv\")\n",
    "\n",
    "print(df)"
   ]
  },
  {
   "cell_type": "markdown",
   "id": "b8167e1d",
   "metadata": {},
   "source": [
    "# Append data to the csv"
   ]
  },
  {
   "cell_type": "code",
   "execution_count": null,
   "id": "3586aab2",
   "metadata": {},
   "outputs": [],
   "source": [
    "with open('AmazonWebScrapeData.csv', 'a+', newline='', encoding='UTF8') as f:\n",
    "    writer = csv.writer(f)\n",
    "    writer.writerow(data)"
   ]
  },
  {
   "cell_type": "markdown",
   "id": "89a59e6c",
   "metadata": {},
   "source": [
    "# Automate appending the csv file"
   ]
  },
  {
   "cell_type": "code",
   "execution_count": 8,
   "id": "b42635e9",
   "metadata": {},
   "outputs": [],
   "source": [
    "def check_price():\n",
    "    url = 'https://www.amazon.com/Beginners-Step-Step-Coding-Course/dp/1465482210/ref=sr_1_28?crid=2QUWLPGAL0WJB&keywords=programming+books&qid=1666363215&qu=eyJxc2MiOiI1LjgzIiwicXNhIjoiNS41MSIsInFzcCI6IjUuMzcifQ%3D%3D&sprefix=programming+books%2Caps%2C104&sr=8-28'\n",
    "\n",
    "    headers = {\n",
    "    'User-Agent': 'Mozilla/5.0 (X11; Ubuntu; Linux x86_64; rv:107.0) Gecko/20100101 Firefox/107.0',\n",
    "    'Cookie': 'session-id=133-7956488-4167933; session-id-time=2082787201l; i18n-prefs=USD; csm-hit=tb:4CAWT9QXV8XXEFB18N5G+s-4CAWT9QXV8XXEFB18N5G|1668993928773&t:1668993928773&adb:adblk_no; ubid-main=133-7872679-9111350; session-token=\"xJd37AFEHf7MdRpVognN01bCWZUaLhZp2kKp3TADqikpYNqX8vp0xYt5QcNVZIRizfclP3uxnHqjUNpHZ5AcXYrdB/pyri8CK0PpfZnTvxu+jIx2yF693JfVrcM3HrMtiUByNDvcvPLtm39AmQ8UQTR0iF2xMHfOGjIgg6PiSLLwDLqCchATzPb6maWtZUS/IxVasNKMERTHrr9Jm7rnuZZ/rO1rvPPPOyXiCgm7RtI=\"'\n",
    "}\n",
    "\n",
    "    page = requests.get(url, headers = headers)\n",
    "\n",
    "    soup1 = BeautifulSoup(page.content, \"html.parser\") #Pulls in entire DOCTYPE html\n",
    "\n",
    "    soup2 =  BeautifulSoup(soup1.prettify(), \"html.parser\")\n",
    "\n",
    "    primary_title = soup2.find(id='productTitle').get_text()\n",
    "    \n",
    "    price = (\n",
    "    soup2\n",
    "    .find('span', {'class': 'a-price a-text-price header-price a-size-base a-text-normal'})\n",
    "    .find('span', {'class': 'a-offscreen'})\n",
    "    .text\n",
    ")\n",
    "\n",
    "    primary_title = primary_title.strip()\n",
    "    price = price.strip()\n",
    "\n",
    "    today = datetime.date.today()\n",
    "    \n",
    "    header = ['Title', 'Price', 'Date']\n",
    "    data = [primary_title, price, today]\n",
    "    \n",
    "    with open('AmazonWebScrapeData.csv', 'a+', newline='', encoding='UTF8') as f:\n",
    "        writer = csv.writer(f)\n",
    "        writer.writerow(data)\n",
    "    \n",
    "    #if(price < 15):\n",
    "        #send_mail()\n",
    "    "
   ]
  },
  {
   "cell_type": "markdown",
   "id": "87c482f9",
   "metadata": {},
   "source": [
    "Setting a timer for csv automation"
   ]
  },
  {
   "cell_type": "code",
   "execution_count": null,
   "id": "609481ab",
   "metadata": {},
   "outputs": [],
   "source": [
    "while(True):\n",
    "    check_price()\n",
    "    time.sleep(86400) #86400 seconds. This checks the price every day."
   ]
  },
  {
   "cell_type": "markdown",
   "id": "e7746e1e",
   "metadata": {},
   "source": [
    "Check daily updates in csv"
   ]
  },
  {
   "cell_type": "code",
   "execution_count": null,
   "id": "54f16977",
   "metadata": {},
   "outputs": [],
   "source": [
    "df = pd.read_csv(\"../notebooks/AmazonWebScrapeData.csv\")\n",
    "\n",
    "print(df)"
   ]
  },
  {
   "cell_type": "markdown",
   "id": "ee968c4e",
   "metadata": {},
   "source": [
    "# Send E-mail when price drops"
   ]
  },
  {
   "cell_type": "code",
   "execution_count": null,
   "id": "f9b3927e",
   "metadata": {},
   "outputs": [],
   "source": [
    "def send_mail():\n",
    "    server = smtplib.SMTP_SSL('smtp.gmail.com',465)\n",
    "    server.ehlo()\n",
    "    #server.starttls()\n",
    "    server.ehlo()\n",
    "    server.login('YourEmailAddress@gmail.com','xxxxxxxxxxxxxx')\n",
    "    \n",
    "    subject = \"The book you want is below $15! Now is your chance to buy!\"\n",
    "    body = \"The time is now! Pick up the book while it's on sale. Don't wait too long! Link here: https://www.amazon.com/Beginners-Step-Step-Coding-Course/dp/1465482210/ref=sr_1_28?crid=2QUWLPGAL0WJB&keywords=programming+books&qid=1666363215&qu=eyJxc2MiOiI1LjgzIiwicXNhIjoiNS41MSIsInFzcCI6IjUuMzcifQ%3D%3D&sprefix=programming+books%2Caps%2C104&sr=8-28\n",
    "   \n",
    "    msg = f\"Subject: {subject}\\n\\n{body}\"\n",
    "    \n",
    "    server.sendmail(\n",
    "        'RecipientEmailAddress@gmail.com',\n",
    "        msg\n",
    "     \n",
    "    )"
   ]
  }
 ],
 "metadata": {
  "kernelspec": {
   "display_name": "Python 3 (ipykernel)",
   "language": "python",
   "name": "python3"
  },
  "language_info": {
   "codemirror_mode": {
    "name": "ipython",
    "version": 3
   },
   "file_extension": ".py",
   "mimetype": "text/x-python",
   "name": "python",
   "nbconvert_exporter": "python",
   "pygments_lexer": "ipython3",
   "version": "3.9.7"
  }
 },
 "nbformat": 4,
 "nbformat_minor": 5
}
